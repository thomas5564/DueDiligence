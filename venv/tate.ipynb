{
 "cells": [
  {
   "cell_type": "code",
   "execution_count": 8,
   "id": "679c9750-5f78-4958-b0f7-7fe7bf9b1306",
   "metadata": {},
   "outputs": [
    {
     "ename": "ModuleNotFoundError",
     "evalue": "No module named 'scipy'",
     "output_type": "error",
     "traceback": [
      "\u001b[1;31m---------------------------------------------------------------------------\u001b[0m",
      "\u001b[1;31mModuleNotFoundError\u001b[0m                       Traceback (most recent call last)",
      "Cell \u001b[1;32mIn[8], line 5\u001b[0m\n\u001b[0;32m      3\u001b[0m \u001b[38;5;28;01mimport\u001b[39;00m \u001b[38;5;21;01mxlsxwriter\u001b[39;00m\n\u001b[0;32m      4\u001b[0m \u001b[38;5;28;01mimport\u001b[39;00m \u001b[38;5;21;01mrequests\u001b[39;00m\n\u001b[1;32m----> 5\u001b[0m \u001b[38;5;28;01mfrom\u001b[39;00m \u001b[38;5;21;01mscipy\u001b[39;00m \u001b[38;5;28;01mimport\u001b[39;00m stats\n\u001b[0;32m      6\u001b[0m \u001b[38;5;28;01mimport\u001b[39;00m \u001b[38;5;21;01mmath\u001b[39;00m\n\u001b[0;32m      7\u001b[0m \u001b[38;5;28;01mimport\u001b[39;00m \u001b[38;5;21;01myfinance\u001b[39;00m \u001b[38;5;28;01mas\u001b[39;00m \u001b[38;5;21;01myf\u001b[39;00m\n",
      "\u001b[1;31mModuleNotFoundError\u001b[0m: No module named 'scipy'"
     ]
    }
   ],
   "source": [
    "import numpy as np\n",
    "import pandas as pd\n",
    "import xlsxwriter\n",
    "import requests\n",
    "from scipy import stats\n",
    "import math\n",
    "import yfinance as yf\n"
   ]
  },
  {
   "cell_type": "code",
   "execution_count": null,
   "id": "15660c1d-aa50-4015-be2b-d9f655d43787",
   "metadata": {},
   "outputs": [],
   "source": [
    "!pip install numpy \n",
    "!pip install pandas \n",
    "!pip install xlsxwriter\n",
    "!pip install requests\n",
    "!pip install scipy \n",
    "!pip install math\n",
    "!pip install yfinance\n",
    "!pip install bs4 \n"
   ]
  },
  {
   "cell_type": "code",
   "execution_count": 18,
   "id": "4c8c3fda-651d-421d-bcc6-87b8751cbabb",
   "metadata": {},
   "outputs": [],
   "source": [
    "# Trying the scraping again with proper exception handling to check if there's any different outcome\n",
    "import requests\n",
    "from bs4 import BeautifulSoup\n",
    "\n",
    "# Attempt to fetch and parse the webpage again\n",
    "try:\n",
    "    # Fetch the webpage content\n",
    "    response = requests.get('https://www.slickcharts.com/sp500')\n",
    "    response.raise_for_status()  # Will raise an HTTPError for bad requests (4XX or 5XX)\n",
    "\n",
    "    # Parse the HTML content using BeautifulSoup\n",
    "    soup = BeautifulSoup(response.content, 'html.parser')\n",
    "\n",
    "    # Extract the company names from the table\n",
    "    company_names = []\n",
    "    table = soup.find('table', {'class': 'table table-hover table-borderless table-sm'})\n",
    "    if table:\n",
    "        rows = table.find_all('tr')\n",
    "        for row in rows[1:]:  # Skip the header row\n",
    "            columns = row.find_all('td')\n",
    "            if columns:\n",
    "                company_name = columns[1].text.strip()  # Company names are in the second column\n",
    "                company_names.append(company_name)\n",
    "\n",
    "    # Display the first few company names\n",
    "    company_names[:10]\n",
    "except requests.exceptions.RequestException as e:\n",
    "    # Output the error message if an exception occurs\n",
    "    str(e)"
   ]
  },
  {
   "cell_type": "code",
   "execution_count": null,
   "id": "ab2a319d-c2b2-46b7-92c2-6e97a36a4c2a",
   "metadata": {},
   "outputs": [],
   "source": []
  }
 ],
 "metadata": {
  "kernelspec": {
   "display_name": "Python 3 (ipykernel)",
   "language": "python",
   "name": "python3"
  },
  "language_info": {
   "codemirror_mode": {
    "name": "ipython",
    "version": 3
   },
   "file_extension": ".py",
   "mimetype": "text/x-python",
   "name": "python",
   "nbconvert_exporter": "python",
   "pygments_lexer": "ipython3",
   "version": "3.12.7"
  }
 },
 "nbformat": 4,
 "nbformat_minor": 5
}
